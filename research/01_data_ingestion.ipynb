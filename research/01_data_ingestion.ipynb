{
 "cells": [
  {
   "cell_type": "code",
   "execution_count": 1,
   "id": "12236671",
   "metadata": {},
   "outputs": [],
   "source": [
    "import os"
   ]
  },
  {
   "cell_type": "code",
   "execution_count": 2,
   "id": "b34e9894",
   "metadata": {},
   "outputs": [
    {
     "data": {
      "text/plain": [
       "'d:\\\\Data Science and Machine Learning\\\\InteractiveCares\\\\Deep Learning\\\\End-to-End-Deep-Learning-Project-Chicken-Disease\\\\research'"
      ]
     },
     "execution_count": 2,
     "metadata": {},
     "output_type": "execute_result"
    }
   ],
   "source": [
    "%pwd"
   ]
  },
  {
   "cell_type": "code",
   "execution_count": 3,
   "id": "69b349af",
   "metadata": {},
   "outputs": [],
   "source": [
    "os.chdir(\"../\")"
   ]
  },
  {
   "cell_type": "code",
   "execution_count": 4,
   "id": "358ba380",
   "metadata": {},
   "outputs": [
    {
     "data": {
      "text/plain": [
       "'d:\\\\Data Science and Machine Learning\\\\InteractiveCares\\\\Deep Learning\\\\End-to-End-Deep-Learning-Project-Chicken-Disease'"
      ]
     },
     "execution_count": 4,
     "metadata": {},
     "output_type": "execute_result"
    }
   ],
   "source": [
    "%pwd"
   ]
  },
  {
   "cell_type": "code",
   "execution_count": 5,
   "id": "ae7ab85e",
   "metadata": {},
   "outputs": [],
   "source": [
    "from dataclasses import dataclass\n",
    "from pathlib import Path\n",
    "\n",
    "@dataclass(frozen=True)\n",
    "class DataIngestionConfig:\n",
    "    root_dir: Path\n",
    "    bucket_name: str\n",
    "    local_data_file: Path\n",
    "    unzip_dir: Path"
   ]
  },
  {
   "cell_type": "code",
   "execution_count": 6,
   "id": "c1798c0c",
   "metadata": {},
   "outputs": [],
   "source": [
    "from cnnClassifier.constants import *\n",
    "from cnnClassifier.utils.common import read_yaml, create_directories"
   ]
  },
  {
   "cell_type": "code",
   "execution_count": 7,
   "id": "50ae2a40",
   "metadata": {},
   "outputs": [],
   "source": [
    "class ConfigurationManager:\n",
    "    def __init__(\n",
    "        self,\n",
    "        config_filepath = CONFIG_FILE_PATH,\n",
    "        params_filepath = PARAMS_FILE_PATH):\n",
    "\n",
    "        self.config = read_yaml(config_filepath)\n",
    "        self.params = read_yaml(params_filepath)\n",
    "\n",
    "        create_directories([self.config.artifacts_root])\n",
    "\n",
    "\n",
    "    def get_data_ingestion_config(self) -> DataIngestionConfig:\n",
    "        config = self.config.data_ingestion\n",
    "\n",
    "        create_directories([config.root_dir])\n",
    "\n",
    "        data_ingestion_config = DataIngestionConfig(\n",
    "            root_dir=config.root_dir,\n",
    "            bucket_name=config.bucket_name,\n",
    "            local_data_file=config.local_data_file,\n",
    "            unzip_dir=config.unzip_dir \n",
    "        )\n",
    "\n",
    "        return data_ingestion_config"
   ]
  },
  {
   "cell_type": "markdown",
   "id": "4cc3eaf0",
   "metadata": {},
   "source": [
    "# Components"
   ]
  },
  {
   "cell_type": "code",
   "execution_count": 8,
   "id": "562cb4dd",
   "metadata": {},
   "outputs": [
    {
     "data": {
      "text/plain": [
       "True"
      ]
     },
     "execution_count": 8,
     "metadata": {},
     "output_type": "execute_result"
    }
   ],
   "source": [
    "import boto3\n",
    "import os\n",
    "from dotenv import load_dotenv\n",
    "from botocore.exceptions import ClientError\n",
    "import zipfile\n",
    "from cnnClassifier import logger\n",
    "from cnnClassifier.utils.common import get_size\n",
    "import tempfile\n",
    "\n",
    "load_dotenv()"
   ]
  },
  {
   "cell_type": "code",
   "execution_count": 12,
   "id": "5f2e48c5",
   "metadata": {},
   "outputs": [],
   "source": [
    "class DataIngestion:\n",
    "    def __init__(self, config: DataIngestionConfig):\n",
    "        self.config = config\n",
    "\n",
    "    def _make_s3(self, region_name, aws_access_key_id, aws_secret_access_key):\n",
    "        return boto3.client(\n",
    "            \"s3\",\n",
    "            region_name=region_name,\n",
    "            aws_access_key_id=aws_access_key_id,\n",
    "            aws_secret_access_key=aws_secret_access_key,\n",
    "        )\n",
    "\n",
    "    def _stream_download(self, s3, bucket_name, object_key, download_path):\n",
    "        # Ensure target directory exists\n",
    "        Path(download_path).parent.mkdir(parents=True, exist_ok=True)\n",
    "\n",
    "        print(f\"Downloading {object_key} from bucket {bucket_name} to {download_path}...\")\n",
    "        response = s3.get_object(\n",
    "            Bucket=bucket_name,\n",
    "            Key=object_key,\n",
    "            RequestPayer=\"requester\",\n",
    "        )\n",
    "        body = response[\"Body\"]\n",
    "\n",
    "        # Write to temp file, then atomic rename\n",
    "        tmp_dir = Path(download_path).parent\n",
    "        with tempfile.NamedTemporaryFile(dir=tmp_dir, delete=False) as tmp_f:\n",
    "            tmp_path = tmp_f.name\n",
    "            for chunk in body.iter_chunks(chunk_size=8 * 1024 * 1024):\n",
    "                if chunk:\n",
    "                    tmp_f.write(chunk)\n",
    "\n",
    "        body.close()\n",
    "        os.replace(tmp_path, download_path)\n",
    "        print(\"Download complete.\")\n",
    "\n",
    "    def download_from_s3(\n",
    "        self,\n",
    "        bucket_name,\n",
    "        object_key,\n",
    "        download_path,\n",
    "        aws_access_key_id,\n",
    "        aws_secret_access_key,\n",
    "        region_name=\"us-east-1\",\n",
    "    ):\n",
    "        s3 = self._make_s3(region_name, aws_access_key_id, aws_secret_access_key)\n",
    "\n",
    "        try:\n",
    "            self._stream_download(s3, bucket_name, object_key, download_path)\n",
    "\n",
    "        except ClientError as e:\n",
    "            code = e.response[\"Error\"].get(\"Code\", \"\")\n",
    "            msg = e.response[\"Error\"].get(\"Message\", str(e))\n",
    "            print(f\"Error ({code}): {msg}\")\n",
    "\n",
    "            if code in [\"403\", \"AccessDenied\"]:\n",
    "                print(\"→ Check IAM permissions and ensure RequestPayer='requester' is allowed in the bucket policy.\")\n",
    "                raise\n",
    "\n",
    "            elif code in [\"PermanentRedirect\", \"301\", \"AuthorizationHeaderMalformed\"]:\n",
    "                try:\n",
    "                    loc = s3.get_bucket_location(Bucket=bucket_name)[\"LocationConstraint\"]\n",
    "                    retry_region = loc or \"us-east-1\"\n",
    "                    print(f\"→ Detected bucket region: {retry_region}. Retrying download...\")\n",
    "                    s3_retry = self._make_s3(retry_region, aws_access_key_id, aws_secret_access_key)\n",
    "                    self._stream_download(s3_retry, bucket_name, object_key, download_path)\n",
    "                except ClientError as e2:\n",
    "                    code2 = e2.response[\"Error\"].get(\"Code\", \"\")\n",
    "                    msg2 = e2.response[\"Error\"].get(\"Message\", str(e2))\n",
    "                    print(f\"Retry failed ({code2}): {msg2}\")\n",
    "                    raise\n",
    "            else:\n",
    "                raise\n",
    "\n",
    "    def extract_zip_file(self):\n",
    "        \"\"\"\n",
    "        Extracts the zip file into the data directory specified by self.config.unzip_dir.\n",
    "        \"\"\"\n",
    "        unzip_path = self.config.unzip_dir\n",
    "        os.makedirs(unzip_path, exist_ok=True)\n",
    "        with zipfile.ZipFile(self.config.local_data_file, \"r\") as zip_ref:\n",
    "            zip_ref.extractall(unzip_path)"
   ]
  },
  {
   "cell_type": "code",
   "execution_count": 13,
   "id": "98ab9d2f",
   "metadata": {},
   "outputs": [
    {
     "name": "stdout",
     "output_type": "stream",
     "text": [
      "[2025-10-13 10:02:34,116: INFO: common: yaml file: Config\\config.yaml loaded successfully]\n",
      "[2025-10-13 10:02:34,120: INFO: common: yaml file: params.yaml loaded successfully]\n",
      "[2025-10-13 10:02:34,124: INFO: common: created directory at: artifacts]\n",
      "[2025-10-13 10:02:34,128: INFO: common: created directory at: artifacts/data_ingestion]\n",
      "Downloading data.zip from bucket chicken-disease-data to artifacts/data_ingestion/data.zip...\n",
      "Download complete.\n"
     ]
    }
   ],
   "source": [
    "try:\n",
    "    config = ConfigurationManager()\n",
    "    data_ingestion_config = config.get_data_ingestion_config()\n",
    "    data_ingestion = DataIngestion(config=data_ingestion_config)\n",
    "\n",
    "    bucket_name = \"chicken-disease-data\"\n",
    "    object_key = \"data.zip\"\n",
    "    download_path = data_ingestion_config.local_data_file  # already set in config\n",
    "\n",
    "    data_ingestion.download_from_s3(\n",
    "        bucket_name,\n",
    "        object_key,\n",
    "        download_path,\n",
    "        aws_access_key_id=os.getenv(\"AWS_ACCESS_KEY_ID\"),\n",
    "        aws_secret_access_key=os.getenv(\"AWS_SECRET_ACCESS_KEY\"),\n",
    "        region_name=\"eu-north-1\",\n",
    "    )\n",
    "\n",
    "    data_ingestion.extract_zip_file()\n",
    "\n",
    "except Exception as e:\n",
    "    raise e"
   ]
  }
 ],
 "metadata": {
  "kernelspec": {
   "display_name": "cnncls",
   "language": "python",
   "name": "python3"
  },
  "language_info": {
   "codemirror_mode": {
    "name": "ipython",
    "version": 3
   },
   "file_extension": ".py",
   "mimetype": "text/x-python",
   "name": "python",
   "nbconvert_exporter": "python",
   "pygments_lexer": "ipython3",
   "version": "3.8.20"
  }
 },
 "nbformat": 4,
 "nbformat_minor": 5
}
