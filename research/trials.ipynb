{
 "cells": [
  {
   "cell_type": "code",
   "execution_count": 1,
   "id": "e8733a80",
   "metadata": {},
   "outputs": [
    {
     "name": "stdout",
     "output_type": "stream",
     "text": [
      "{'name': 'Ador', 'age': 29}\n",
      "<class 'dict'>\n"
     ]
    }
   ],
   "source": [
    "import yaml\n",
    "yaml_file_path = \"test.yaml\"\n",
    "\n",
    "with open(yaml_file_path, \"r\") as f:\n",
    "    data = yaml.safe_load(f)\n",
    "print(data)\n",
    "print(type(data))"
   ]
  },
  {
   "cell_type": "code",
   "execution_count": 2,
   "id": "af7dfb21",
   "metadata": {},
   "outputs": [
    {
     "data": {
      "text/plain": [
       "'Ador'"
      ]
     },
     "execution_count": 2,
     "metadata": {},
     "output_type": "execute_result"
    }
   ],
   "source": [
    "data['name']"
   ]
  },
  {
   "cell_type": "code",
   "execution_count": 3,
   "metadata": {},
   "outputs": [],
   "source": [
    "#if i write data.name it will give wrong ans , \n",
    "#Solution : use ConfigBox "
   ]
  },
  {
   "cell_type": "markdown",
   "id": "567d4d49",
   "metadata": {},
   "source": [
    "# ConfigBox"
   ]
  },
  {
   "cell_type": "code",
   "execution_count": 4,
   "id": "85eff241",
   "metadata": {},
   "outputs": [],
   "source": [
    "# now using COngifBox Library\n",
    "from box import ConfigBox\n",
    "d =ConfigBox(data)"
   ]
  },
  {
   "cell_type": "code",
   "execution_count": 5,
   "id": "4919a2ac",
   "metadata": {},
   "outputs": [
    {
     "data": {
      "text/plain": [
       "ConfigBox({'name': 'Ador', 'age': 29})"
      ]
     },
     "execution_count": 5,
     "metadata": {},
     "output_type": "execute_result"
    }
   ],
   "source": [
    "d"
   ]
  },
  {
   "cell_type": "code",
   "execution_count": 6,
   "id": "d5989cfe",
   "metadata": {},
   "outputs": [
    {
     "data": {
      "text/plain": [
       "'Ador'"
      ]
     },
     "execution_count": 6,
     "metadata": {},
     "output_type": "execute_result"
    }
   ],
   "source": [
    "d.name"
   ]
  },
  {
   "cell_type": "markdown",
   "id": "fc33f256",
   "metadata": {},
   "source": [
    "# ensure_annotation"
   ]
  },
  {
   "cell_type": "code",
   "execution_count": 7,
   "id": "e50d4977",
   "metadata": {},
   "outputs": [],
   "source": [
    "def get_products(x:int,y:int):\n",
    "    return x*y"
   ]
  },
  {
   "cell_type": "code",
   "execution_count": 8,
   "id": "1a1b25ce",
   "metadata": {},
   "outputs": [
    {
     "data": {
      "text/plain": [
       "18"
      ]
     },
     "execution_count": 8,
     "metadata": {},
     "output_type": "execute_result"
    }
   ],
   "source": [
    "get_products(x=3,y=6)"
   ]
  },
  {
   "cell_type": "code",
   "execution_count": 9,
   "id": "26d6f57a",
   "metadata": {},
   "outputs": [],
   "source": [
    "#but, if we give string value like \"6\" example : get_products(x=3,y=\"6\"), it's not giving proper value"
   ]
  },
  {
   "cell_type": "code",
   "execution_count": 10,
   "id": "6c94d131",
   "metadata": {},
   "outputs": [],
   "source": [
    "from ensure import ensure_annotations\n",
    "@ensure_annotations # it is a decorator\n",
    "def get_products(x:int,y:int):\n",
    "    return x*y"
   ]
  },
  {
   "cell_type": "code",
   "execution_count": null,
   "id": "06ad5461",
   "metadata": {},
   "outputs": [],
   "source": [
    "# get_products(x=3,y=6)\n",
    "# get_products(x=3,y=\"6\") # it is not working , ensure_annotations check and give wrong valye "
   ]
  },
  {
   "cell_type": "code",
   "execution_count": null,
   "id": "94f232f6",
   "metadata": {},
   "outputs": [],
   "source": []
  },
  {
   "cell_type": "markdown",
   "id": "8acd453c",
   "metadata": {},
   "source": [
    "# S3 Buckets"
   ]
  },
  {
   "cell_type": "code",
   "execution_count": 3,
   "id": "7d6831f2",
   "metadata": {},
   "outputs": [
    {
     "name": "stdout",
     "output_type": "stream",
     "text": [
      "Downloading data.zip from bucket chicken-disease-data to data.zip...\n",
      "Download complete.\n"
     ]
    }
   ],
   "source": [
    "import boto3\n",
    "import os\n",
    "from dotenv import load_dotenv\n",
    "\n",
    "\n",
    "from botocore.exceptions import ClientError\n",
    "\n",
    "# Load environment variables from .env\n",
    "load_dotenv()\n",
    "\n",
    "def download_from_s3(bucket_name, object_key, download_path, \n",
    "                     aws_access_key_id, aws_secret_access_key, region_name=\"eu-north-1\"):\n",
    "    # Initialize the S3 client with explicit credentials\n",
    "    s3 = boto3.client(\n",
    "        \"s3\",\n",
    "        region_name=region_name,\n",
    "        aws_access_key_id=aws_access_key_id,\n",
    "        aws_secret_access_key=aws_secret_access_key\n",
    "    )\n",
    "\n",
    "    try:\n",
    "        print(f\"Downloading {object_key} from bucket {bucket_name} to {download_path}...\")\n",
    "        # Must include RequestPayer for Requester Pays buckets\n",
    "        response = s3.get_object(\n",
    "            Bucket=bucket_name,\n",
    "            Key=object_key,\n",
    "            RequestPayer=\"requester\"\n",
    "        )\n",
    "        with open(download_path, \"wb\") as f:\n",
    "            for chunk in response[\"Body\"].iter_chunks(chunk_size=8*1024*1024):\n",
    "                f.write(chunk)\n",
    "\n",
    "        print(\"Download complete.\")\n",
    "\n",
    "    except ClientError as e:\n",
    "        code = e.response[\"Error\"][\"Code\"]\n",
    "        print(f\"Error ({code}): {e.response['Error']['Message']}\")\n",
    "        if code in [\"403\", \"AccessDenied\"]:\n",
    "            print(\"→ Check IAM permissions and ensure RequestPayer='requester' is allowed in the bucket policy.\")\n",
    "        elif code == \"PermanentRedirect\":\n",
    "            print(\"→ Wrong region: use get_bucket_location() to discover the correct region.\")\n",
    "\n",
    "# Example usage (⚠️ replace with your real keys — don’t commit them)\n",
    "bucket_name = \"chicken-disease-data\"\n",
    "object_key = \"data.zip\"\n",
    "download_path = \"data.zip\"\n",
    "\n",
    "download_from_s3(\n",
    "    bucket_name,\n",
    "    object_key,\n",
    "    download_path,\n",
    "    aws_access_key_id=os.getenv(\"AWS_ACCESS_KEY_ID\"),\n",
    "    aws_secret_access_key=os.getenv(\"AWS_SECRET_ACCESS_KEY\"),\n",
    "    region_name=\"eu-north-1\"\n",
    "\n",
    ")"
   ]
  }
 ],
 "metadata": {
  "kernelspec": {
   "display_name": "cnncls",
   "language": "python",
   "name": "python3"
  },
  "language_info": {
   "codemirror_mode": {
    "name": "ipython",
    "version": 3
   },
   "file_extension": ".py",
   "mimetype": "text/x-python",
   "name": "python",
   "nbconvert_exporter": "python",
   "pygments_lexer": "ipython3",
   "version": "3.8.20"
  }
 },
 "nbformat": 4,
 "nbformat_minor": 5
}
